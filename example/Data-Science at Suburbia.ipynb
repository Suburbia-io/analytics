{
 "cells": [
  {
   "cell_type": "markdown",
   "metadata": {},
   "source": [
    "# Data-Science at Suburbia\n",
    "At Suburbia we have been working extensively with transaction data generated from point-of-sales(pos) systems located in shops, bars, restaurants and sports-clubs. This notebook serves to explain some of the work we have been doing with data, including data quality, labelling and more. For this notebook we will focus on data from bars and restaurants, regarding so called Consumer Packaged Goods (CPG) or Fast Moving Consumer Goods (FMCG) \n",
    "\n",
    "\n",
    "## Table of Contents\n",
    "1. Suburbia \n",
    "    * Acquiring\n",
    "    * Combining\n",
    "    * Cleaning\n",
    "    * Enriching\n",
    "    * Distributing\n",
    "    * Data-Science\n",
    "2. Suburbia's data\n",
    "    * Input data\n",
    "    * Processed data\n",
    "    * Unbranded tagger\n",
    "5. What could go wrong, \n",
    "    * data quality\n",
    "6. What could go wrong, outlier detection\n",
    "4. Processing data\n",
    "    * Unbranded tagger\n",
    "3. Simulating Suburbia's data\n",
    "7. Drawing conclusions: merchant stability\n",
    "8. "
   ]
  },
  {
   "cell_type": "markdown",
   "metadata": {},
   "source": [
    "# Suburbia\n",
    "Suburbia acquires data from various sources which is combined, cleaned, enriched, and distributed to its customers. The aim of acquiring this data is to show economic activity by a sector, region or brand. Suburbia is interested in the Where, When and What, but never in the Who. Personal information is therefore not acquired not processed. \n",
    "\n",
    "## Acquiring\n",
    "In particular for CPG data the data is acquired from various POS systems that are used in bars and restaurants. This data includes an date and time, the anonymized merchant, the location, a decription of the item sold and their value. The number of transactions covered runs in the Billions.\n",
    "\n",
    "## Combining\n",
    "Once the data is acquired, it is restructured in a canonical form that is used for all data that will be combined into a product. This means that for each final product a canonical form is defined, (one for cpg, one for luxury cosmetics, one for wholesale, one for financial transactions etc.). The end result is data that is all structured in a similar way, such that all further processing can be done in a generic way. Any data-source specific code is part of the combining step.\n",
    "\n",
    "## Cleaning\n",
    "Cleaning entails a large part of the processing effort, this part involves mapping the now structured data to meaningful data. As you can imagine in bars and cafe's there are many ways to indicate the same product. \"coca-cola, c-cola, cola: cc-classic, can of coke\" are but a few ways that coca-cola can be described. Furthermore, brands such as coca-cola have sub-brands \"cherry-coke, coke-zero etc.\" which complicates things further. The kinds of meaningful data that we have extracted\n",
    "* Brand\n",
    "* Company of the brand\n",
    "* Category (as tags or hierarchies)\n",
    "* Location(in a canonical form)\n",
    "A multitude of strategies have been used and explored including:\n",
    "* Manual labeling\n",
    "* Rule based labeling\n",
    "* Natural Language Processing\n",
    "\n",
    "## Enriching\n",
    "Now that the data is structured and cleaned enriching is a relatively simple process of joining multiple datasets, for instance:\n",
    "* location data with demographics\n",
    "* date and time with weather data\n",
    "* company with stock-prices\n",
    "\n",
    "## Distributing\n",
    "The data is now almost ready to ship to the customer but a few steps have to be taken to tailor the data to their needs. The data is far too big for certain customers and the tools they are used to such as excel, therefore the data needs to be pre-aggregated. More importanlty, to draw conclusions from the data first a stable subsection of the data needs to be created. The fact that a product has increased or decreased sales, in the dataset, is not enough to draw the conclusion that their sales have increased. For instance, if more merchants start using the POS systems more sales end up in our dataset, this does not mean there are more sales outside of the dataset.\n",
    "\n",
    "## Data-Science \n",
    "We have put the most data-cience effort in the Cleaning, and Distributing of these described steps, together with the (data)quality control over the whole process. "
   ]
  },
  {
   "cell_type": "markdown",
   "metadata": {},
   "source": [
    "# Suburbia's data\n",
    "We will further explain the data based on simulated data."
   ]
  },
  {
   "cell_type": "code",
   "execution_count": 1,
   "metadata": {},
   "outputs": [],
   "source": [
    "#!pip install ../"
   ]
  },
  {
   "cell_type": "code",
   "execution_count": 2,
   "metadata": {},
   "outputs": [
    {
     "name": "stderr",
     "output_type": "stream",
     "text": [
      "Importing plotly failed. Interactive plots will not work.\n"
     ]
    }
   ],
   "source": [
    "from analytics import merchant_stability, outlier_detection, unbranded_tagger, datasim\n",
    "import numpy as np"
   ]
  },
  {
   "cell_type": "code",
   "execution_count": 3,
   "metadata": {},
   "outputs": [],
   "source": [
    "np.random.seed(seed=1)"
   ]
  },
  {
   "cell_type": "markdown",
   "metadata": {},
   "source": [
    "## Input data\n",
    "We start with fictive data from 2 data sources A & B that contains 5 merchants, their location and the items they sell and their price. "
   ]
  },
  {
   "cell_type": "code",
   "execution_count": 4,
   "metadata": {},
   "outputs": [
    {
     "data": {
      "text/plain": [
       "[{'merchant': 'merchant_1',\n",
       "  'data_source': 'A',\n",
       "  'location': 'DE',\n",
       "  'items': [('flasche heineken bier 0.5', 4),\n",
       "   ('coca-cola', 3),\n",
       "   ('pizza', 12),\n",
       "   ('tee mit milch', 1),\n",
       "   ('milch', 3)]},\n",
       " {'merchant': 'merchant_2',\n",
       "  'data_source': 'A',\n",
       "  'location': 'DE',\n",
       "  'items': [('bier klein', 3),\n",
       "   ('kaffee mit milch', 1),\n",
       "   ('kaffee mit sucker', 9),\n",
       "   ('tee mit sucker', 1)]},\n",
       " {'merchant': 'merchant_3',\n",
       "  'data_source': 'B',\n",
       "  'location': 'NL',\n",
       "  'items': [('alcoholvrijbier', 5),\n",
       "   ('bepsi-cola', 2),\n",
       "   ('fles wijn', 25),\n",
       "   ('rode wijn', 8)]},\n",
       " {'merchant': 'merchant_4',\n",
       "  'data_source': 'B',\n",
       "  'location': 'NL',\n",
       "  'items': [('cola can', 5), ('pizza margeritha', 9), ('fles witte', 5)]},\n",
       " {'merchant': 'merchant_5',\n",
       "  'data_source': 'B',\n",
       "  'location': 'BE',\n",
       "  'items': [('friet', 6), ('bier stella', 7), ('witte wijn', 1)]}]"
      ]
     },
     "execution_count": 4,
     "metadata": {},
     "output_type": "execute_result"
    }
   ],
   "source": [
    "example = datasim.get_example_merchants()\n",
    "example"
   ]
  },
  {
   "cell_type": "markdown",
   "metadata": {},
   "source": [
    "We use the fictive data from above as a basis to create a dataset, as if it was acquired and ingested. The fields have the following meaning:\n",
    "* date is the date that the transaction happend\n",
    "* reporting_date, since there can be a delay between the transaction date and the date the data gets delivered. The reportingdate indicates when the data has been received.\n",
    "* batch is the batch or batch-date on which the delivered data was processed.\n",
    "* data_source is one of the POS systems that delivers data.\n",
    "* merchant is the name of the merchant as described before\n",
    "* location is the location as described before\n",
    "* receipt_id, many lines together make a receipt such as 2 cola, 1 hamburger is one receipt but 2 lines\n",
    "* line_id, a unique identifier for each line originally supplied by the POS system\n",
    "* item, a description of the item as discussed before\n",
    "* unit_price, the price of a single item as discussed before\n",
    "* quantity, the number of items sold e.g. 2 for 2 cola\n",
    "* volume_eur, the total euro value for that line = unit_price * quantity"
   ]
  },
  {
   "cell_type": "code",
   "execution_count": 5,
   "metadata": {},
   "outputs": [
    {
     "data": {
      "text/html": [
       "<div>\n",
       "<style scoped>\n",
       "    .dataframe tbody tr th:only-of-type {\n",
       "        vertical-align: middle;\n",
       "    }\n",
       "\n",
       "    .dataframe tbody tr th {\n",
       "        vertical-align: top;\n",
       "    }\n",
       "\n",
       "    .dataframe thead th {\n",
       "        text-align: right;\n",
       "    }\n",
       "</style>\n",
       "<table border=\"1\" class=\"dataframe\">\n",
       "  <thead>\n",
       "    <tr style=\"text-align: right;\">\n",
       "      <th></th>\n",
       "      <th>date</th>\n",
       "      <th>reporting_date</th>\n",
       "      <th>batch</th>\n",
       "      <th>data_source</th>\n",
       "      <th>merchant</th>\n",
       "      <th>location</th>\n",
       "      <th>receipt_id</th>\n",
       "      <th>line_id</th>\n",
       "      <th>item</th>\n",
       "      <th>unit_price</th>\n",
       "      <th>quantity</th>\n",
       "      <th>volume_eur</th>\n",
       "    </tr>\n",
       "  </thead>\n",
       "  <tbody>\n",
       "    <tr>\n",
       "      <th>0</th>\n",
       "      <td>0</td>\n",
       "      <td>0</td>\n",
       "      <td>0</td>\n",
       "      <td>A</td>\n",
       "      <td>merchant_1</td>\n",
       "      <td>DE</td>\n",
       "      <td>70_merchant_1</td>\n",
       "      <td>0</td>\n",
       "      <td>flasche heineken bier 0.5</td>\n",
       "      <td>4</td>\n",
       "      <td>NaN</td>\n",
       "      <td>NaN</td>\n",
       "    </tr>\n",
       "    <tr>\n",
       "      <th>1</th>\n",
       "      <td>0</td>\n",
       "      <td>0</td>\n",
       "      <td>0</td>\n",
       "      <td>A</td>\n",
       "      <td>merchant_1</td>\n",
       "      <td>DE</td>\n",
       "      <td>2243_merchant_2</td>\n",
       "      <td>8060</td>\n",
       "      <td>coca-cola</td>\n",
       "      <td>3</td>\n",
       "      <td>1.0</td>\n",
       "      <td>3.0</td>\n",
       "    </tr>\n",
       "    <tr>\n",
       "      <th>2</th>\n",
       "      <td>0</td>\n",
       "      <td>0</td>\n",
       "      <td>0</td>\n",
       "      <td>A</td>\n",
       "      <td>merchant_1</td>\n",
       "      <td>DE</td>\n",
       "      <td>293_merchant_2</td>\n",
       "      <td>8061</td>\n",
       "      <td>coca-cola</td>\n",
       "      <td>3</td>\n",
       "      <td>1.0</td>\n",
       "      <td>3.0</td>\n",
       "    </tr>\n",
       "    <tr>\n",
       "      <th>3</th>\n",
       "      <td>0</td>\n",
       "      <td>0</td>\n",
       "      <td>0</td>\n",
       "      <td>A</td>\n",
       "      <td>merchant_1</td>\n",
       "      <td>DE</td>\n",
       "      <td>1293_merchant_2</td>\n",
       "      <td>8062</td>\n",
       "      <td>coca-cola</td>\n",
       "      <td>3</td>\n",
       "      <td>2.0</td>\n",
       "      <td>6.0</td>\n",
       "    </tr>\n",
       "    <tr>\n",
       "      <th>4</th>\n",
       "      <td>0</td>\n",
       "      <td>0</td>\n",
       "      <td>0</td>\n",
       "      <td>A</td>\n",
       "      <td>merchant_1</td>\n",
       "      <td>DE</td>\n",
       "      <td>2743_merchant_2</td>\n",
       "      <td>8063</td>\n",
       "      <td>coca-cola</td>\n",
       "      <td>3</td>\n",
       "      <td>3.0</td>\n",
       "      <td>9.0</td>\n",
       "    </tr>\n",
       "  </tbody>\n",
       "</table>\n",
       "</div>"
      ],
      "text/plain": [
       "   date  reporting_date  batch data_source    merchant location  \\\n",
       "0     0               0      0           A  merchant_1       DE   \n",
       "1     0               0      0           A  merchant_1       DE   \n",
       "2     0               0      0           A  merchant_1       DE   \n",
       "3     0               0      0           A  merchant_1       DE   \n",
       "4     0               0      0           A  merchant_1       DE   \n",
       "\n",
       "        receipt_id  line_id                       item  unit_price  quantity  \\\n",
       "0    70_merchant_1        0  flasche heineken bier 0.5           4       NaN   \n",
       "1  2243_merchant_2     8060                  coca-cola           3       1.0   \n",
       "2   293_merchant_2     8061                  coca-cola           3       1.0   \n",
       "3  1293_merchant_2     8062                  coca-cola           3       2.0   \n",
       "4  2743_merchant_2     8063                  coca-cola           3       3.0   \n",
       "\n",
       "   volume_eur  \n",
       "0         NaN  \n",
       "1         3.0  \n",
       "2         3.0  \n",
       "3         6.0  \n",
       "4         9.0  "
      ]
     },
     "execution_count": 5,
     "metadata": {},
     "output_type": "execute_result"
    }
   ],
   "source": [
    "indf = datasim.create_cpg_input_df(example)\n",
    "indf.head(5)"
   ]
  },
  {
   "cell_type": "markdown",
   "metadata": {},
   "source": [
    "Let's have a look what this data looks like. We plot the date against total aggregates of the number of rows, the sales volume_eur and the number of items sold. There are clear peaks and valleys or seasonality representing the normal weekdays vs. the weekends. The Netherlands usually has the peak on Thursday,Friday,Saturday. While Germany has their peak a day later, Friday, Saturday, Sunday. You can think of it as the start of the series is a Monday, which is a slow day, together, with Tuesday and Wednesday, Thursday things start picking up, with the peak on Friday and Saturday, on sunday activity drops again.\n",
    "\n",
    "Besides the scaling there is not much difference between the 3 graphs. However, we feel that first graphs which describes the number of rows is the most robust. Both volume_eur and quantity can be skewed by bad input data, highly priced items or by a issue with for instance currency conversion. We will therefore continue using the number of rows as our main graph, but it should be noted that the 3 graphs not showing the same behavior is an indication of data quality issues."
   ]
  },
  {
   "cell_type": "code",
   "execution_count": 6,
   "metadata": {},
   "outputs": [
    {
     "data": {
      "image/png": "[encoded data removed]",
      "text/plain": [
       "<Figure size 1174.5x360 with 3 Axes>"
      ]
     },
     "metadata": {
      "needs_background": "light"
     },
     "output_type": "display_data"
    }
   ],
   "source": [
    "datasim.plot_data(indf, ['date'], ['rows', 'quantity', 'volume_eur'])"
   ]
  },
  {
   "cell_type": "markdown",
   "metadata": {},
   "source": [
    "## Processed data\n",
    "We saw the input data, this needs to be enriched to map the items to more meaningful data. The items are in various languages with typo's (bepsi) and abbrevations. We will use a simple mapping based on regex we map the common words to their canonical English form."
   ]
  },
  {
   "cell_type": "code",
   "execution_count": 7,
   "metadata": {},
   "outputs": [
    {
     "data": {
      "text/plain": [
       "{'bier': 'drinks/beer',\n",
       " 'cola': 'drinks/cola',\n",
       " 'friet': 'food/fries',\n",
       " 'hamburger': 'food/hamburger',\n",
       " 'kaffee': 'drinks/coffee',\n",
       " 'pizza': 'food/pizza',\n",
       " 'tee': 'drinks/tea'}"
      ]
     },
     "execution_count": 7,
     "metadata": {},
     "output_type": "execute_result"
    }
   ],
   "source": [
    "cat_map = datasim.get_example_category_map()\n",
    "cat_map"
   ]
  },
  {
   "cell_type": "markdown",
   "metadata": {},
   "source": [
    "In this case we have a rule based mapping, but in reality such a mapping can also come from different sources such as human data-labelers. The mapping is therfore fully expanded so all different mapping sources can be combined. In this example a human labeler has reclassified alcoholfree beer as a carbonated drink. In this example we will focus continue with the regex rule based mapping.\n"
   ]
  },
  {
   "cell_type": "code",
   "execution_count": 8,
   "metadata": {},
   "outputs": [
    {
     "data": {
      "text/plain": [
       "dict"
      ]
     },
     "execution_count": 8,
     "metadata": {},
     "output_type": "execute_result"
    }
   ],
   "source": [
    "expanded_cat_map = datasim.expand_map(cat_map, indf['item'].unique())\n",
    "expanded_cat_map['alcoholvrijbier'] = 'drinks/carbonated'\n",
    "expanded_cat_map\n",
    "type(expanded_cat_map)\n"
   ]
  },
  {
   "cell_type": "markdown",
   "metadata": {},
   "source": [
    "The next step is to map the original items using this expanded_mapping, this also shows that there is a new mapped item that was not in the expanded map namely 'unknown', this is the catch-all for items that match no mapping. "
   ]
  },
  {
   "cell_type": "code",
   "execution_count": 9,
   "metadata": {},
   "outputs": [
    {
     "name": "stdout",
     "output_type": "stream",
     "text": [
      "['drinks/beer' 'drinks/cola' 'food/pizza' 'drinks/tea' 'unknown'\n",
      " 'drinks/coffee' 'drinks/carbonated' 'food/fries']\n"
     ]
    }
   ],
   "source": [
    "print(indf['item'].map(expanded_cat_map).fillna(\"unknown\").unique())"
   ]
  },
  {
   "cell_type": "code",
   "execution_count": 10,
   "metadata": {},
   "outputs": [],
   "source": [
    "brand_map = datasim.get_example_brand_map()\n",
    "expanded_brand_map = datasim.expand_map(brand_map, indf['item'].unique())"
   ]
  },
  {
   "cell_type": "markdown",
   "metadata": {},
   "source": [
    "Using similar steps we can enrich the input dataframe with our mapped items."
   ]
  },
  {
   "cell_type": "code",
   "execution_count": 11,
   "metadata": {},
   "outputs": [
    {
     "data": {
      "text/html": [
       "<div>\n",
       "<style scoped>\n",
       "    .dataframe tbody tr th:only-of-type {\n",
       "        vertical-align: middle;\n",
       "    }\n",
       "\n",
       "    .dataframe tbody tr th {\n",
       "        vertical-align: top;\n",
       "    }\n",
       "\n",
       "    .dataframe thead th {\n",
       "        text-align: right;\n",
       "    }\n",
       "</style>\n",
       "<table border=\"1\" class=\"dataframe\">\n",
       "  <thead>\n",
       "    <tr style=\"text-align: right;\">\n",
       "      <th></th>\n",
       "      <th>item</th>\n",
       "      <th>brand</th>\n",
       "      <th>category</th>\n",
       "    </tr>\n",
       "  </thead>\n",
       "  <tbody>\n",
       "    <tr>\n",
       "      <th>0</th>\n",
       "      <td>flasche heineken bier 0.5</td>\n",
       "      <td>heineken</td>\n",
       "      <td>drinks/beer</td>\n",
       "    </tr>\n",
       "    <tr>\n",
       "      <th>1</th>\n",
       "      <td>coca-cola</td>\n",
       "      <td>coca-cola</td>\n",
       "      <td>drinks/cola</td>\n",
       "    </tr>\n",
       "    <tr>\n",
       "      <th>40</th>\n",
       "      <td>pizza</td>\n",
       "      <td>unbranded</td>\n",
       "      <td>food/pizza</td>\n",
       "    </tr>\n",
       "    <tr>\n",
       "      <th>41</th>\n",
       "      <td>tee mit milch</td>\n",
       "      <td>unbranded</td>\n",
       "      <td>drinks/tea</td>\n",
       "    </tr>\n",
       "    <tr>\n",
       "      <th>61</th>\n",
       "      <td>milch</td>\n",
       "      <td>unknown</td>\n",
       "      <td>unknown</td>\n",
       "    </tr>\n",
       "    <tr>\n",
       "      <th>137</th>\n",
       "      <td>bier klein</td>\n",
       "      <td>unknown</td>\n",
       "      <td>drinks/beer</td>\n",
       "    </tr>\n",
       "    <tr>\n",
       "      <th>161</th>\n",
       "      <td>kaffee mit milch</td>\n",
       "      <td>unknown</td>\n",
       "      <td>drinks/coffee</td>\n",
       "    </tr>\n",
       "    <tr>\n",
       "      <th>253</th>\n",
       "      <td>kaffee mit sucker</td>\n",
       "      <td>unbranded</td>\n",
       "      <td>drinks/coffee</td>\n",
       "    </tr>\n",
       "    <tr>\n",
       "      <th>336</th>\n",
       "      <td>tee mit sucker</td>\n",
       "      <td>unbranded</td>\n",
       "      <td>drinks/tea</td>\n",
       "    </tr>\n",
       "    <tr>\n",
       "      <th>387</th>\n",
       "      <td>alcoholvrijbier</td>\n",
       "      <td>unknown</td>\n",
       "      <td>drinks/carbonated</td>\n",
       "    </tr>\n",
       "    <tr>\n",
       "      <th>489</th>\n",
       "      <td>bepsi-cola</td>\n",
       "      <td>unknown</td>\n",
       "      <td>drinks/cola</td>\n",
       "    </tr>\n",
       "    <tr>\n",
       "      <th>564</th>\n",
       "      <td>fles wijn</td>\n",
       "      <td>unknown</td>\n",
       "      <td>unknown</td>\n",
       "    </tr>\n",
       "    <tr>\n",
       "      <th>595</th>\n",
       "      <td>rode wijn</td>\n",
       "      <td>unbranded</td>\n",
       "      <td>unknown</td>\n",
       "    </tr>\n",
       "    <tr>\n",
       "      <th>676</th>\n",
       "      <td>cola can</td>\n",
       "      <td>unknown</td>\n",
       "      <td>drinks/cola</td>\n",
       "    </tr>\n",
       "    <tr>\n",
       "      <th>740</th>\n",
       "      <td>pizza margeritha</td>\n",
       "      <td>unbranded</td>\n",
       "      <td>food/pizza</td>\n",
       "    </tr>\n",
       "    <tr>\n",
       "      <th>801</th>\n",
       "      <td>fles witte</td>\n",
       "      <td>unbranded</td>\n",
       "      <td>unknown</td>\n",
       "    </tr>\n",
       "    <tr>\n",
       "      <th>962</th>\n",
       "      <td>friet</td>\n",
       "      <td>unknown</td>\n",
       "      <td>food/fries</td>\n",
       "    </tr>\n",
       "    <tr>\n",
       "      <th>1153</th>\n",
       "      <td>bier stella</td>\n",
       "      <td>stella artois</td>\n",
       "      <td>drinks/beer</td>\n",
       "    </tr>\n",
       "    <tr>\n",
       "      <th>1200</th>\n",
       "      <td>witte wijn</td>\n",
       "      <td>unknown</td>\n",
       "      <td>unknown</td>\n",
       "    </tr>\n",
       "  </tbody>\n",
       "</table>\n",
       "</div>"
      ],
      "text/plain": [
       "                           item          brand           category\n",
       "0     flasche heineken bier 0.5       heineken        drinks/beer\n",
       "1                     coca-cola      coca-cola        drinks/cola\n",
       "40                        pizza      unbranded         food/pizza\n",
       "41                tee mit milch      unbranded         drinks/tea\n",
       "61                        milch        unknown            unknown\n",
       "137                  bier klein        unknown        drinks/beer\n",
       "161            kaffee mit milch        unknown      drinks/coffee\n",
       "253           kaffee mit sucker      unbranded      drinks/coffee\n",
       "336              tee mit sucker      unbranded         drinks/tea\n",
       "387             alcoholvrijbier        unknown  drinks/carbonated\n",
       "489                  bepsi-cola        unknown        drinks/cola\n",
       "564                   fles wijn        unknown            unknown\n",
       "595                   rode wijn      unbranded            unknown\n",
       "676                    cola can        unknown        drinks/cola\n",
       "740            pizza margeritha      unbranded         food/pizza\n",
       "801                  fles witte      unbranded            unknown\n",
       "962                       friet        unknown         food/fries\n",
       "1153                bier stella  stella artois        drinks/beer\n",
       "1200                 witte wijn        unknown            unknown"
      ]
     },
     "execution_count": 11,
     "metadata": {},
     "output_type": "execute_result"
    }
   ],
   "source": [
    "processed = datasim.clean_data(indf, expanded_cat_map, expanded_brand_map)\n",
    "processed[['item', 'brand', 'category']].drop_duplicates()"
   ]
  },
  {
   "cell_type": "code",
   "execution_count": 12,
   "metadata": {},
   "outputs": [
    {
     "name": "stdout",
     "output_type": "stream",
     "text": [
      "0.700602539789231 0.5667314817037552 0.3636843747749478 0.06449496283137687\n"
     ]
    }
   ],
   "source": [
    "yield_cat = 1 - processed[processed['category'] == 'unknown'].count()[0]/processed.count()[0]\n",
    "yield_cat    \n",
    "yield_brand = 1-(processed[processed['brand'] == 'unknown'].count()[0]/processed.count()[0])\n",
    "yield_unbranded = (processed[processed['brand'] == 'unbranded'].count()[0]/processed.count()[0])\n",
    "yield_heineken = (processed[processed['brand'] == 'heineken'].count()[0]/processed.count()[0])\n",
    "\n",
    "print(yield_cat, yield_brand, yield_unbranded, yield_heineken)"
   ]
  },
  {
   "cell_type": "markdown",
   "metadata": {},
   "source": [
    "I see that we did not label things with wijn as a category, so we will label these by hand. "
   ]
  },
  {
   "cell_type": "code",
   "execution_count": 13,
   "metadata": {},
   "outputs": [
    {
     "data": {
      "text/plain": [
       "0.8702018868377464"
      ]
     },
     "execution_count": 13,
     "metadata": {},
     "output_type": "execute_result"
    }
   ],
   "source": [
    "expanded_cat_map['wijn']='wine'\n",
    "processed = datasim.clean_data(indf, expanded_cat_map, expanded_brand_map)\n",
    "yield_cat = 1 - processed[processed['category'] == 'unknown'].count()[0]/processed.count()[0]\n",
    "yield_cat \n",
    "# this is a mistake the proper way is\n",
    "cat_map['wijn']='wine'\n",
    "expanded_cat_map = datasim.expand_map(cat_map, indf['item'].unique())\n",
    "processed = datasim.clean_data(indf, expanded_cat_map, expanded_brand_map)\n",
    "yield_cat = 1 - processed[processed['category'] == 'unknown'].count()[0]/processed.count()[0]\n",
    "yield_cat "
   ]
  },
  {
   "cell_type": "markdown",
   "metadata": {},
   "source": [
    "Let's see if we can automate the finding of more 'unbranded' brands."
   ]
  },
  {
   "cell_type": "markdown",
   "metadata": {},
   "source": [
    "### Drawbacks of this approach\n",
    "One of the drawbacks of creating a full map is that any new items that have not been seen before will not be in the full expanded mapping, eventhough there might be a rule that would match. It is therfore important to often refresh the full map with new items.\n",
    "Drawbacks of categorization in a hierarchy are can be seen byby aloholfree-beer or iced-coffee making hierarchies such as alcoholic/beer or hot-drinks/coffee difficult. Tags could be used instead but have the problem of not being able to generalize to a higher category."
   ]
  },
  {
   "cell_type": "markdown",
   "metadata": {},
   "source": [
    "## Unbranded tagger\n"
   ]
  },
  {
   "cell_type": "code",
   "execution_count": 14,
   "metadata": {},
   "outputs": [
    {
     "name": "stdout",
     "output_type": "stream",
     "text": [
      "pizza\n",
      "tee mit milch\n",
      "kaffee mit sucker\n",
      "tee mit sucker\n",
      "rode wijn\n",
      "pizza margeritha\n",
      "fles witte \n",
      "++++++\n",
      " milch\n",
      "bier klein\n",
      "kaffee mit milch\n",
      "alcoholvrijbier\n",
      "bepsi-cola\n",
      "fles wijn\n",
      "cola can\n",
      "friet\n",
      "witte wijn\n",
      "Items labeled as \"unbranded\":\n",
      "\n",
      "milch\n",
      "kaffee mit milch\n",
      "fles wijn\n",
      "witte wijn\n"
     ]
    }
   ],
   "source": [
    "mask = processed['brand'] == 'unbranded'\n",
    "unbranded = processed.loc[mask, 'item'].drop_duplicates()\n",
    "mask = processed['brand'] == 'unknown'\n",
    "unknown = processed.loc[mask, 'item'].drop_duplicates()\n",
    "print(\"\\n\".join(list(unbranded)),'\\n++++++\\n',\"\\n\".join(list(unknown)))\n",
    "\n",
    "to_label_unbranded = unbranded_tagger.get_unbranded(\n",
    "    to_label=unknown,\n",
    "    unbranded=unbranded,\n",
    "    tokens_to_exclude=['red', 'bull'],  # for brands comprised of common words \n",
    "    min_unbranded_rows=1,\n",
    ")\n",
    "print('Items labeled as \"unbranded\":\\n')\n",
    "for item in unknown[to_label_unbranded]:\n",
    "    print(item)"
   ]
  },
  {
   "cell_type": "code",
   "execution_count": 15,
   "metadata": {},
   "outputs": [
    {
     "name": "stdout",
     "output_type": "stream",
     "text": [
      "0.8702018868377464 0.7679301597970729 0.5648830528682655\n"
     ]
    }
   ],
   "source": [
    "for item in unknown[to_label_unbranded]:\n",
    "    expanded_brand_map[item]='unbranded'\n",
    "processed = datasim.clean_data(indf, expanded_cat_map, expanded_brand_map)\n",
    "yield_cat = 1 - processed[processed['category'] == 'unknown'].count()[0]/processed.count()[0]\n",
    "yield_brand = 1-(processed[processed['brand'] == 'unknown'].count()[0]/processed.count()[0])\n",
    "yield_unbranded = (processed[processed['brand'] == 'unbranded'].count()[0]/processed.count()[0])\n",
    "print(yield_cat, yield_brand, yield_unbranded)"
   ]
  },
  {
   "cell_type": "code",
   "execution_count": 16,
   "metadata": {},
   "outputs": [
    {
     "data": {
      "text/html": [
       "<div>\n",
       "<style scoped>\n",
       "    .dataframe tbody tr th:only-of-type {\n",
       "        vertical-align: middle;\n",
       "    }\n",
       "\n",
       "    .dataframe tbody tr th {\n",
       "        vertical-align: top;\n",
       "    }\n",
       "\n",
       "    .dataframe thead th {\n",
       "        text-align: right;\n",
       "    }\n",
       "</style>\n",
       "<table border=\"1\" class=\"dataframe\">\n",
       "  <thead>\n",
       "    <tr style=\"text-align: right;\">\n",
       "      <th></th>\n",
       "      <th>date</th>\n",
       "      <th>reporting_date</th>\n",
       "      <th>batch</th>\n",
       "      <th>data_source</th>\n",
       "      <th>merchant</th>\n",
       "      <th>location</th>\n",
       "      <th>receipt_id</th>\n",
       "      <th>line_id</th>\n",
       "      <th>item</th>\n",
       "      <th>unit_price</th>\n",
       "      <th>quantity</th>\n",
       "      <th>volume_eur</th>\n",
       "      <th>category</th>\n",
       "      <th>brand</th>\n",
       "    </tr>\n",
       "  </thead>\n",
       "  <tbody>\n",
       "    <tr>\n",
       "      <th>0</th>\n",
       "      <td>0</td>\n",
       "      <td>0</td>\n",
       "      <td>0</td>\n",
       "      <td>A</td>\n",
       "      <td>merchant_1</td>\n",
       "      <td>DE</td>\n",
       "      <td>1060_merchant_1</td>\n",
       "      <td>0</td>\n",
       "      <td>flasche heineken bier 0.5</td>\n",
       "      <td>4</td>\n",
       "      <td>1.0</td>\n",
       "      <td>4.0</td>\n",
       "      <td>drinks/beer</td>\n",
       "      <td>heineken</td>\n",
       "    </tr>\n",
       "    <tr>\n",
       "      <th>1</th>\n",
       "      <td>0</td>\n",
       "      <td>0</td>\n",
       "      <td>0</td>\n",
       "      <td>A</td>\n",
       "      <td>merchant_1</td>\n",
       "      <td>DE</td>\n",
       "      <td>2060_merchant_1</td>\n",
       "      <td>1</td>\n",
       "      <td>flasche heineken bier 0.5</td>\n",
       "      <td>4</td>\n",
       "      <td>3.0</td>\n",
       "      <td>12.0</td>\n",
       "      <td>drinks/beer</td>\n",
       "      <td>heineken</td>\n",
       "    </tr>\n",
       "    <tr>\n",
       "      <th>2</th>\n",
       "      <td>0</td>\n",
       "      <td>0</td>\n",
       "      <td>0</td>\n",
       "      <td>A</td>\n",
       "      <td>merchant_1</td>\n",
       "      <td>DE</td>\n",
       "      <td>1580_merchant_1</td>\n",
       "      <td>2</td>\n",
       "      <td>flasche heineken bier 0.5</td>\n",
       "      <td>4</td>\n",
       "      <td>5.0</td>\n",
       "      <td>20.0</td>\n",
       "      <td>drinks/beer</td>\n",
       "      <td>heineken</td>\n",
       "    </tr>\n",
       "    <tr>\n",
       "      <th>3</th>\n",
       "      <td>0</td>\n",
       "      <td>0</td>\n",
       "      <td>0</td>\n",
       "      <td>A</td>\n",
       "      <td>merchant_1</td>\n",
       "      <td>DE</td>\n",
       "      <td>2170_merchant_1</td>\n",
       "      <td>3</td>\n",
       "      <td>flasche heineken bier 0.5</td>\n",
       "      <td>4</td>\n",
       "      <td>1.0</td>\n",
       "      <td>4.0</td>\n",
       "      <td>drinks/beer</td>\n",
       "      <td>heineken</td>\n",
       "    </tr>\n",
       "    <tr>\n",
       "      <th>4</th>\n",
       "      <td>0</td>\n",
       "      <td>0</td>\n",
       "      <td>0</td>\n",
       "      <td>A</td>\n",
       "      <td>merchant_1</td>\n",
       "      <td>DE</td>\n",
       "      <td>1990_merchant_1</td>\n",
       "      <td>4</td>\n",
       "      <td>flasche heineken bier 0.5</td>\n",
       "      <td>4</td>\n",
       "      <td>1.0</td>\n",
       "      <td>4.0</td>\n",
       "      <td>drinks/beer</td>\n",
       "      <td>heineken</td>\n",
       "    </tr>\n",
       "    <tr>\n",
       "      <th>...</th>\n",
       "      <td>...</td>\n",
       "      <td>...</td>\n",
       "      <td>...</td>\n",
       "      <td>...</td>\n",
       "      <td>...</td>\n",
       "      <td>...</td>\n",
       "      <td>...</td>\n",
       "      <td>...</td>\n",
       "      <td>...</td>\n",
       "      <td>...</td>\n",
       "      <td>...</td>\n",
       "      <td>...</td>\n",
       "      <td>...</td>\n",
       "      <td>...</td>\n",
       "    </tr>\n",
       "    <tr>\n",
       "      <th>126251</th>\n",
       "      <td>29</td>\n",
       "      <td>29</td>\n",
       "      <td>35</td>\n",
       "      <td>B</td>\n",
       "      <td>merchant_5</td>\n",
       "      <td>BE</td>\n",
       "      <td>5329_merchant_5</td>\n",
       "      <td>126251</td>\n",
       "      <td>witte wijn</td>\n",
       "      <td>1</td>\n",
       "      <td>1.0</td>\n",
       "      <td>1.0</td>\n",
       "      <td>wine</td>\n",
       "      <td>unknown</td>\n",
       "    </tr>\n",
       "    <tr>\n",
       "      <th>126252</th>\n",
       "      <td>29</td>\n",
       "      <td>29</td>\n",
       "      <td>35</td>\n",
       "      <td>B</td>\n",
       "      <td>merchant_5</td>\n",
       "      <td>BE</td>\n",
       "      <td>7429_merchant_5</td>\n",
       "      <td>126252</td>\n",
       "      <td>witte wijn</td>\n",
       "      <td>1</td>\n",
       "      <td>1.0</td>\n",
       "      <td>1.0</td>\n",
       "      <td>wine</td>\n",
       "      <td>unknown</td>\n",
       "    </tr>\n",
       "    <tr>\n",
       "      <th>126253</th>\n",
       "      <td>29</td>\n",
       "      <td>29</td>\n",
       "      <td>35</td>\n",
       "      <td>B</td>\n",
       "      <td>merchant_5</td>\n",
       "      <td>BE</td>\n",
       "      <td>11229_merchant_5</td>\n",
       "      <td>126253</td>\n",
       "      <td>witte wijn</td>\n",
       "      <td>1</td>\n",
       "      <td>1.0</td>\n",
       "      <td>1.0</td>\n",
       "      <td>wine</td>\n",
       "      <td>unknown</td>\n",
       "    </tr>\n",
       "    <tr>\n",
       "      <th>126254</th>\n",
       "      <td>29</td>\n",
       "      <td>29</td>\n",
       "      <td>35</td>\n",
       "      <td>B</td>\n",
       "      <td>merchant_5</td>\n",
       "      <td>BE</td>\n",
       "      <td>11629_merchant_5</td>\n",
       "      <td>126254</td>\n",
       "      <td>witte wijn</td>\n",
       "      <td>1</td>\n",
       "      <td>1.0</td>\n",
       "      <td>1.0</td>\n",
       "      <td>wine</td>\n",
       "      <td>unknown</td>\n",
       "    </tr>\n",
       "    <tr>\n",
       "      <th>126255</th>\n",
       "      <td>29</td>\n",
       "      <td>29</td>\n",
       "      <td>35</td>\n",
       "      <td>B</td>\n",
       "      <td>merchant_5</td>\n",
       "      <td>BE</td>\n",
       "      <td>6129_merchant_5</td>\n",
       "      <td>126255</td>\n",
       "      <td>witte wijn</td>\n",
       "      <td>1</td>\n",
       "      <td>2.0</td>\n",
       "      <td>2.0</td>\n",
       "      <td>wine</td>\n",
       "      <td>unknown</td>\n",
       "    </tr>\n",
       "  </tbody>\n",
       "</table>\n",
       "<p>126256 rows × 14 columns</p>\n",
       "</div>"
      ],
      "text/plain": [
       "        date  reporting_date  batch data_source    merchant location  \\\n",
       "0          0               0      0           A  merchant_1       DE   \n",
       "1          0               0      0           A  merchant_1       DE   \n",
       "2          0               0      0           A  merchant_1       DE   \n",
       "3          0               0      0           A  merchant_1       DE   \n",
       "4          0               0      0           A  merchant_1       DE   \n",
       "...      ...             ...    ...         ...         ...      ...   \n",
       "126251    29              29     35           B  merchant_5       BE   \n",
       "126252    29              29     35           B  merchant_5       BE   \n",
       "126253    29              29     35           B  merchant_5       BE   \n",
       "126254    29              29     35           B  merchant_5       BE   \n",
       "126255    29              29     35           B  merchant_5       BE   \n",
       "\n",
       "              receipt_id  line_id                       item  unit_price  \\\n",
       "0        1060_merchant_1        0  flasche heineken bier 0.5           4   \n",
       "1        2060_merchant_1        1  flasche heineken bier 0.5           4   \n",
       "2        1580_merchant_1        2  flasche heineken bier 0.5           4   \n",
       "3        2170_merchant_1        3  flasche heineken bier 0.5           4   \n",
       "4        1990_merchant_1        4  flasche heineken bier 0.5           4   \n",
       "...                  ...      ...                        ...         ...   \n",
       "126251   5329_merchant_5   126251                 witte wijn           1   \n",
       "126252   7429_merchant_5   126252                 witte wijn           1   \n",
       "126253  11229_merchant_5   126253                 witte wijn           1   \n",
       "126254  11629_merchant_5   126254                 witte wijn           1   \n",
       "126255   6129_merchant_5   126255                 witte wijn           1   \n",
       "\n",
       "        quantity  volume_eur     category     brand  \n",
       "0            1.0         4.0  drinks/beer  heineken  \n",
       "1            3.0        12.0  drinks/beer  heineken  \n",
       "2            5.0        20.0  drinks/beer  heineken  \n",
       "3            1.0         4.0  drinks/beer  heineken  \n",
       "4            1.0         4.0  drinks/beer  heineken  \n",
       "...          ...         ...          ...       ...  \n",
       "126251       1.0         1.0         wine   unknown  \n",
       "126252       1.0         1.0         wine   unknown  \n",
       "126253       1.0         1.0         wine   unknown  \n",
       "126254       1.0         1.0         wine   unknown  \n",
       "126255       2.0         2.0         wine   unknown  \n",
       "\n",
       "[126256 rows x 14 columns]"
      ]
     },
     "execution_count": 16,
     "metadata": {},
     "output_type": "execute_result"
    }
   ],
   "source": [
    "datasim.create_cpg_df(example, cat_map, brand_map)"
   ]
  }
 ],
 "metadata": {
  "language_info": {
   "codemirror_mode": {
    "name": "ipython",
    "version": 3
   },
   "file_extension": ".py",
   "mimetype": "text/x-python",
   "name": "python",
   "nbconvert_exporter": "python",
   "pygments_lexer": "ipython3",
   "version": "3.7.5"
  }
 },
 "nbformat": 4,
 "nbformat_minor": 4
}
